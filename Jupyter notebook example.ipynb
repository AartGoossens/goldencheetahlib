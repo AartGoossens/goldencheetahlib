{
 "cells": [
  {
   "cell_type": "code",
   "execution_count": 2,
   "metadata": {
    "collapsed": false
   },
   "outputs": [],
   "source": [
    "%matplotlib inline\n",
    "from goldencheetahlib import client as gc_client"
   ]
  },
  {
   "cell_type": "code",
   "execution_count": 3,
   "metadata": {
    "collapsed": false
   },
   "outputs": [],
   "source": [
    "import importlib\n",
    "importlib.reload(gc_client)\n",
    "client = gc_client.GCClient(athlete='Martijn Veling')"
   ]
  },
  {
   "cell_type": "code",
   "execution_count": 3,
   "metadata": {
    "collapsed": true
   },
   "outputs": [],
   "source": [
    "client = gc_client.GCClient(athlete='Martijn Veling')"
   ]
  },
  {
   "cell_type": "code",
   "execution_count": 4,
   "metadata": {
    "collapsed": false
   },
   "outputs": [
    {
     "data": {
      "text/html": [
       "<div>\n",
       "<table border=\"1\" class=\"dataframe\">\n",
       "  <thead>\n",
       "    <tr style=\"text-align: right;\">\n",
       "      <th></th>\n",
       "      <th>name</th>\n",
       "      <th>dob</th>\n",
       "      <th>weight</th>\n",
       "      <th>height</th>\n",
       "      <th>sex</th>\n",
       "    </tr>\n",
       "  </thead>\n",
       "  <tbody>\n",
       "    <tr>\n",
       "      <th>0</th>\n",
       "      <td>Martijn Veling</td>\n",
       "      <td>1991/01/01</td>\n",
       "      <td>85</td>\n",
       "      <td>1.89</td>\n",
       "      <td>Male</td>\n",
       "    </tr>\n",
       "  </tbody>\n",
       "</table>\n",
       "</div>"
      ],
      "text/plain": [
       "             name          dob  weight  height    sex\n",
       "0  Martijn Veling   1991/01/01      85    1.89   Male"
      ]
     },
     "execution_count": 4,
     "metadata": {},
     "output_type": "execute_result"
    }
   ],
   "source": [
    "client.get_athletes()"
   ]
  },
  {
   "cell_type": "code",
   "execution_count": 5,
   "metadata": {
    "collapsed": false
   },
   "outputs": [],
   "source": [
    "activity_list = client.get_activity_list()"
   ]
  },
  {
   "cell_type": "code",
   "execution_count": 6,
   "metadata": {
    "collapsed": false
   },
   "outputs": [],
   "source": [
    "activities = client.get_activity_bulk(activity_list.iloc[:3])"
   ]
  },
  {
   "cell_type": "code",
   "execution_count": 7,
   "metadata": {
    "collapsed": false
   },
   "outputs": [],
   "source": [
    "last_activity = client.get_last_activity()"
   ]
  },
  {
   "cell_type": "code",
   "execution_count": 8,
   "metadata": {
    "collapsed": false
   },
   "outputs": [
    {
     "data": {
      "text/plain": [
       "<matplotlib.axes._subplots.AxesSubplot at 0x10c8e15c0>"
      ]
     },
     "execution_count": 8,
     "metadata": {},
     "output_type": "execute_result"
    },
    {
     "data": {
      "image/png": "[encoded data removed]",
      "text/plain": [
       "<matplotlib.figure.Figure at 0x109895ba8>"
      ]
     },
     "metadata": {},
     "output_type": "display_data"
    }
   ],
   "source": [
    "last_activity[['HR','WATTS']].plot()"
   ]
  },
  {
   "cell_type": "code",
   "execution_count": 9,
   "metadata": {
    "collapsed": false
   },
   "outputs": [
    {
     "data": {
      "text/plain": [
       "[      ALT  CAD       KM        SECS  WATTS\n",
       " 0     0.0   45  0.00000    0.000000    139\n",
       " 1     0.0   48  0.00000    0.999996    139\n",
       " 2     0.0   54  0.00000    2.000000    158\n",
       " 3     0.0   56  0.00000    3.000000    158\n",
       " 4     0.0   60  0.00000    4.000000    155\n",
       " 5    49.6   63  0.00000    5.000000    163\n",
       " 6    49.6   65  0.00000    6.000020    158\n",
       " 7    49.6   66  0.00000    6.999980    158\n",
       " 8    49.6   67  0.00000    8.000000    159\n",
       " 9    49.6   69  0.00000    9.000020    144\n",
       " 10   49.6   69  0.00000    9.999980    164\n",
       " 11   49.6   71  0.00000   11.000000    169\n",
       " 12   49.6   72  0.00000   12.000000    169\n",
       " 13   49.6   73  0.00000   13.000000    155\n",
       " 14   49.6   74  0.00000   14.000000    133\n",
       " 15   49.6   75  0.00000   15.000000    152\n",
       " 16   49.6   75  0.00000   16.000000    152\n",
       " 17   49.6   75  0.00000   17.000000    172\n",
       " 18   49.6   77  0.00000   18.000000    173\n",
       " 19   49.6   77  0.00000   19.000000    192\n",
       " 20   49.6   79  0.00000   20.000000    216\n",
       " 21   49.6   80  0.00000   21.000000    203\n",
       " 22   49.6   82  0.00000   22.000000    203\n",
       " 23   49.6   83  0.00000   23.000000    207\n",
       " 24   49.6   87  0.00000   24.000000    226\n",
       " 25   49.6   88  0.00000   25.000000    212\n",
       " 26   49.6   90  0.00000   26.000000    216\n",
       " 27   49.6   90  0.00000   27.000000    216\n",
       " 28   49.6   92  0.00000   28.000000    253\n",
       " 29   49.6   95  0.00000   29.000000    281\n",
       " ..    ...  ...      ...         ...    ...\n",
       " 583  49.6   75  0.00000  583.000000    111\n",
       " 584  49.6   74  0.00000  584.000000     99\n",
       " 585  49.6   74  0.00000  585.000000    117\n",
       " 586  49.6   74  0.00000  586.000000    117\n",
       " 587  49.6   74  0.00000  587.000000    110\n",
       " 588  49.6   75  0.00000  588.000000    132\n",
       " 589  49.6   75  0.00000  589.000000    134\n",
       " 590  49.6   76  0.00000  590.000000    128\n",
       " 591  49.6   77  0.00000  591.000000    118\n",
       " 592  49.6   76  0.00000  592.000000     69\n",
       " 593  49.6    0  0.00000  593.000000      0\n",
       " 594  49.6    0  0.00000  594.000000      0\n",
       " 595  49.6    0  0.00000  595.000000      0\n",
       " 596  49.6    0  0.00000  596.000000      0\n",
       " 597  49.6    0  0.00000  597.000000      0\n",
       " 598  49.6    0  0.00000  598.000000      0\n",
       " 599  49.6    0  0.00000  599.000000      0\n",
       " 600  49.6    0  0.00000  600.998000      0\n",
       " 601  49.6    0  0.00000  602.000000      0\n",
       " 602  49.6    0  0.00000  603.002000      0\n",
       " 603  49.6   26  0.00000  603.998000     22\n",
       " 604  49.6    0  0.00000  605.000000      0\n",
       " 605  49.6    0  0.00000  606.002000      0\n",
       " 606  49.6    0  0.00000  606.998000      0\n",
       " 607  49.6    0  0.00000  608.000000      0\n",
       " 608  49.6    0  0.00000  609.002000      0\n",
       " 609  49.6    0  0.00000  609.998000      0\n",
       " 610  49.6    0  0.00156  611.000000      0\n",
       " 611  49.6    0  0.00276  612.002000      0\n",
       " 612  49.6    0  0.00397  612.998000      0\n",
       " \n",
       " [613 rows x 5 columns],       ALT  CAD        SECS  WATTS\n",
       " 0    97.8   31    0.000000   99.0\n",
       " 1    97.8   44    0.999996  192.0\n",
       " 2    97.8   57    2.000000  281.0\n",
       " 3    97.8   66    3.000000  328.0\n",
       " 4    97.8   75    4.000000  302.0\n",
       " 5    97.8   80    5.000000  250.0\n",
       " 6    97.8   84    6.000020  257.0\n",
       " 7    97.8   86    6.999980  250.0\n",
       " 8    97.8   89    8.000000  280.0\n",
       " 9    97.8   92    9.000020  273.0\n",
       " 10   97.8   94    9.999980  262.0\n",
       " 11   97.8   95   11.000000  230.0\n",
       " 12   97.8   96   12.000000  243.0\n",
       " 13   97.8   97   13.000000  233.0\n",
       " 14   97.8   99   14.000000  255.0\n",
       " 15   97.8   99   15.000000  219.0\n",
       " 16   97.8  100   16.000000  264.0\n",
       " 17   97.8  102   17.000000  316.0\n",
       " 18   97.8  104   18.000000  266.0\n",
       " 19   97.8  104   19.000000  245.0\n",
       " 20   97.8  103   20.000000  245.0\n",
       " 21   97.8  103   21.000000  237.0\n",
       " 22   97.8  102   22.000000  279.0\n",
       " 23   97.8  102   23.000000  228.0\n",
       " 24   97.8  101   24.000000  254.0\n",
       " 25   97.8  100   25.000000  292.0\n",
       " 26   97.8  100   26.000000  289.0\n",
       " 27   97.8  100   27.000000  252.0\n",
       " 28   97.8  100   28.000000  320.0\n",
       " 29   97.8  100   29.000000  290.0\n",
       " ..    ...  ...         ...    ...\n",
       " 708  95.8  155  708.002000  987.0\n",
       " 709  95.8  166  708.998000  843.0\n",
       " 710  95.8  172  710.000000  555.0\n",
       " 711  95.8  132  711.002000  675.0\n",
       " 712  95.8  112  711.998000  345.0\n",
       " 713  95.8   90  713.000000  293.0\n",
       " 714  95.8   91  714.002000  236.0\n",
       " 715  95.8   79  714.998000    5.0\n",
       " 716  95.8   67  716.000000    1.0\n",
       " 717  95.8  103  717.002000    0.0\n",
       " 718  95.8  110  717.998000    1.0\n",
       " 719  95.8  126  719.000000  239.0\n",
       " 720  95.8  139  720.002000  227.0\n",
       " 721  95.8   96  720.998000    1.0\n",
       " 722  95.8    0  722.000000    0.0\n",
       " 723  95.8    0  723.002000    0.0\n",
       " 724  95.8    0  723.998000    0.0\n",
       " 725  95.8   64  725.000000    0.0\n",
       " 726  95.8   64  726.002000    0.0\n",
       " 727  95.8   64  726.998000    0.0\n",
       " 728  95.8    0  728.000000    0.0\n",
       " 729  95.8    0  729.002000    0.0\n",
       " 730  95.8    0  729.998000    0.0\n",
       " 731  95.8   14  731.000000    0.0\n",
       " 732  95.8   58  732.002000    0.0\n",
       " 733  95.8   58  732.998000    0.0\n",
       " 734  95.8   40  734.000000    0.0\n",
       " 735  95.8   23  735.002000    0.0\n",
       " 736  95.8   23  735.998000    0.0\n",
       " 737  95.8   11  737.000000    0.0\n",
       " \n",
       " [738 rows x 4 columns],         ALT   CAD       KM   KPH          SECS         SLOPE  WATTS\n",
       " 0      19.6  28.0   0.0000  0.00      0.000000  0.000000e+00    0.0\n",
       " 1      19.6  28.0   0.0000  0.00      0.999996  0.000000e+00    0.0\n",
       " 2      19.6  28.0   0.0000  0.00      2.000000  0.000000e+00    0.0\n",
       " 3      19.8  28.0   0.0000  0.00      3.000000  0.000000e+00    0.0\n",
       " 4      19.8  28.0   0.0000  0.00      4.000000  0.000000e+00    0.0\n",
       " 5      19.8  28.0   0.0000  0.00      5.000000  0.000000e+00    0.0\n",
       " 6      19.8  28.0   0.0000  0.00      6.000020  0.000000e+00    0.0\n",
       " 7      19.8  28.0   0.0000  0.00      6.999980  0.000000e+00    0.0\n",
       " 8      19.8  28.0   0.0000  0.00      8.000000  0.000000e+00    0.0\n",
       " 9      19.8  28.0   0.0000  0.00      9.000020  0.000000e+00    0.0\n",
       " 10     19.8  28.0   0.0000  0.00      9.999980  1.776360e-16    0.0\n",
       " 11     19.8  28.0   0.0000  0.00     11.000000  1.776360e-16    0.0\n",
       " 12     19.8  28.0   0.0000  0.00     12.000000  1.776360e-16    0.0\n",
       " 13     19.8  28.0   0.0000  0.00     13.000000  1.776360e-16    0.0\n",
       " 14     19.8  28.0   0.0000  0.00     14.000000  1.776360e-16    0.0\n",
       " 15     19.8  28.0   0.0000  0.00     15.000000  1.776360e-16    0.0\n",
       " 16     19.8  28.0   0.0000  0.00     16.000000  1.776360e-16    0.0\n",
       " 17     19.8  28.0   0.0000  0.00     17.000000  1.776360e-16    0.0\n",
       " 18     19.8  28.0   0.0000  0.00     18.000000  1.776360e-16    0.0\n",
       " 19     19.8  28.0   0.0000  0.00     19.000000  1.776360e-16    0.0\n",
       " 20     19.8  28.0   0.0000  0.00     20.000000  1.776360e-16    0.0\n",
       " 21     19.8  28.0   0.0000  0.00     21.000000  1.776360e-16    0.0\n",
       " 22     19.8  28.0   0.0001  0.36     22.000000  1.776360e-16    0.0\n",
       " 23     19.8  28.0   0.0001  0.00     23.000000  1.776360e-16    0.0\n",
       " 24     19.8  28.0   0.0004  0.36     24.000000  1.776360e-16    0.0\n",
       " 25     19.8  28.0   0.0009  0.72     25.000000  1.776360e-16    0.0\n",
       " 26     19.8  28.0   0.0015  1.08     26.000000  1.776360e-16    0.0\n",
       " 27     19.8  28.0   0.0018  1.08     27.000000  1.776360e-16    0.0\n",
       " 28     19.8  28.0   0.0019  1.44     28.000000  1.776360e-16    0.0\n",
       " 29     19.8  28.0   0.0019  1.08     29.000000  1.776360e-16    0.0\n",
       " ...     ...   ...      ...   ...           ...           ...    ...\n",
       " 14748  27.4   0.0  49.7175  0.36  14748.000000  0.000000e+00    0.0\n",
       " 14749  27.4   0.0  49.7175  0.00  14749.000000  0.000000e+00    0.0\n",
       " 14750  27.4   0.0  49.7175  0.00  14750.000000  0.000000e+00    0.0\n",
       " 14751  27.4   0.0  49.7175  0.00  14751.000000  0.000000e+00    0.0\n",
       " 14752  27.4   0.0  49.7175  0.00  14752.000000  0.000000e+00    0.0\n",
       " 14753  27.4   0.0  49.7176  0.36  14753.000000  0.000000e+00    0.0\n",
       " 14754  27.4   0.0  49.7178  0.36  14754.000000  0.000000e+00    0.0\n",
       " 14755  27.4   0.0  49.7178  0.36  14755.000000  0.000000e+00    0.0\n",
       " 14756  27.4   0.0  49.7178  0.36  14756.000000  0.000000e+00    0.0\n",
       " 14757  27.4   0.0  49.7178  0.36  14757.000000  0.000000e+00    0.0\n",
       " 14758  27.4   0.0  49.7178  0.00  14758.000000  0.000000e+00    0.0\n",
       " 14759  27.4   0.0  49.7178  0.00  14759.000000  0.000000e+00    0.0\n",
       " 14760  27.4   0.0  49.7178  0.00  14760.000000  0.000000e+00    0.0\n",
       " 14761  27.4   0.0  49.7178  0.00  14761.000000  0.000000e+00    0.0\n",
       " 14762  27.4   0.0  49.7178  0.00  14762.000000  0.000000e+00    0.0\n",
       " 14763  27.4   0.0  49.7178  0.00  14763.000000  0.000000e+00    0.0\n",
       " 14764  27.4   0.0  49.7178  0.00  14764.000000  0.000000e+00    0.0\n",
       " 14765  27.4   0.0  49.7178  0.00  14765.000000  0.000000e+00    0.0\n",
       " 14766  27.4   0.0  49.7178  0.00  14766.000000  0.000000e+00    0.0\n",
       " 14767  27.4   0.0  49.7178  0.00  14767.000000  0.000000e+00    0.0\n",
       " 14768  27.4   0.0  49.7178  0.00  14768.000000  0.000000e+00    0.0\n",
       " 14769  27.4   0.0  49.7178  0.00  14769.000000  0.000000e+00    0.0\n",
       " 14770  27.4   0.0  49.7178  0.00  14770.000000  0.000000e+00    0.0\n",
       " 14771  27.4   0.0  49.7178  0.00  14771.000000  0.000000e+00    0.0\n",
       " 14772  27.4   0.0  49.7178  0.00  14772.000000  0.000000e+00    0.0\n",
       " 14773  27.4   0.0  49.7178  0.00  14773.000000  0.000000e+00    0.0\n",
       " 14774  27.4   0.0  49.7178  0.00  14774.000000  0.000000e+00    0.0\n",
       " 14775  27.4   0.0  49.7178  0.00  14775.000000  0.000000e+00    0.0\n",
       " 14776  27.4   0.0  49.7178  0.00  14776.000000  0.000000e+00    0.0\n",
       " 14777  27.4   0.0  49.7178  0.00  14777.000000  0.000000e+00    0.0\n",
       " \n",
       " [14778 rows x 7 columns]]"
      ]
     },
     "execution_count": 9,
     "metadata": {},
     "output_type": "execute_result"
    }
   ],
   "source": [
    "activities"
   ]
  },
  {
   "cell_type": "code",
   "execution_count": null,
   "metadata": {
    "collapsed": true
   },
   "outputs": [],
   "source": []
  }
 ],
 "metadata": {
  "kernelspec": {
   "display_name": "Python 3",
   "language": "python",
   "name": "python3"
  },
  "language_info": {
   "codemirror_mode": {
    "name": "ipython",
    "version": 3
   },
   "file_extension": ".py",
   "mimetype": "text/x-python",
   "name": "python",
   "nbconvert_exporter": "python",
   "pygments_lexer": "ipython3",
   "version": "3.5.1"
  }
 },
 "nbformat": 4,
 "nbformat_minor": 0
}
